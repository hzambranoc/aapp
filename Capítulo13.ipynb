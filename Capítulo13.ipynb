{
 "cells": [
  {
   "cell_type": "markdown",
   "metadata": {},
   "source": [
    "# Introducción al procesamiento del lenguaje natural"
   ]
  },
  {
   "cell_type": "code",
   "execution_count": 57,
   "metadata": {},
   "outputs": [],
   "source": [
    "from nltk.tokenize import word_tokenize\n",
    "from gensim.models import Word2Vec   "
   ]
  },
  {
   "cell_type": "code",
   "execution_count": 58,
   "metadata": {},
   "outputs": [],
   "source": [
    "def cargar_datos(text_file):\n",
    "    lista = []\n",
    "    oraciones = []\n",
    "    with open(text_file, 'r', encoding=\"utf-8\") as f:\n",
    "        for i, line in enumerate(f):\n",
    "            lista.append(line)\n",
    "    sentencias = list([word_tokenize(frase, language=\"spanish\", preserve_line=True) for frase in lista])    \n",
    "    return sentencias"
   ]
  },
  {
   "cell_type": "code",
   "execution_count": 59,
   "metadata": {},
   "outputs": [],
   "source": [
    "sentencias = cargar_datos(\"datos.txt\")"
   ]
  },
  {
   "cell_type": "code",
   "execution_count": 60,
   "metadata": {},
   "outputs": [
    {
     "data": {
      "text/plain": [
       "['Desarrollar',\n",
       " 'un',\n",
       " 'sistema',\n",
       " 'que',\n",
       " 'integre',\n",
       " 'distintos',\n",
       " 'algoritmos',\n",
       " 'de',\n",
       " 'procesamiento',\n",
       " 'de',\n",
       " 'imágenes',\n",
       " 'médicas',\n",
       " 'que',\n",
       " 'brinde',\n",
       " 'información',\n",
       " 'relevante',\n",
       " 'para',\n",
       " 'la',\n",
       " 'toma',\n",
       " 'de',\n",
       " 'decisiones',\n",
       " 'en',\n",
       " 'los',\n",
       " 'diagnósticos',\n",
       " 'y',\n",
       " 'tratamiento',\n",
       " 'del',\n",
       " 'SDRA']"
      ]
     },
     "execution_count": 60,
     "metadata": {},
     "output_type": "execute_result"
    }
   ],
   "source": [
    "# mostramos el titulo del primer proyecto\n",
    "sentencias[1]"
   ]
  },
  {
   "cell_type": "code",
   "execution_count": 61,
   "metadata": {},
   "outputs": [
    {
     "data": {
      "text/plain": [
       "(1967, 15960)"
      ]
     },
     "execution_count": 61,
     "metadata": {},
     "output_type": "execute_result"
    }
   ],
   "source": [
    "modelo = Word2Vec(\n",
    "        sentences=sentencias, # datos\n",
    "        window=10, # distancia máxima entre la palabra objetivo y las otras\n",
    "        min_count=5, # minimo número frecuencia de palabras \n",
    "        workers=8,# número de hilos de ejecución\n",
    "        sg=1,# 1 = SKIP , 0 = CBOW\n",
    "        hs=1,\n",
    "        negative=0) \n",
    "modelo.train(sentencias, total_examples=len(sentencias), epochs=20)  # entrenamos el modelo con 20 épocas          "
   ]
  },
  {
   "cell_type": "code",
   "execution_count": 79,
   "metadata": {},
   "outputs": [
    {
     "data": {
      "text/plain": [
       "(array([-0.00073743,  0.00204963,  0.01785159,  0.02969659, -0.01933305,\n",
       "        -0.02235572,  0.02150625,  0.03205127, -0.01971458, -0.03554021,\n",
       "         0.01808269, -0.02547315,  0.02006525,  0.01742276,  0.00137815,\n",
       "        -0.00654036,  0.03585552, -0.00201472, -0.0198508 , -0.05516871,\n",
       "         0.01822434,  0.01539533,  0.03345823, -0.00402954, -0.00597383,\n",
       "         0.00608297, -0.021612  ,  0.01328896, -0.01853243,  0.01401208,\n",
       "         0.01479805, -0.00651355,  0.02192673, -0.03736488, -0.01685435,\n",
       "         0.01398175,  0.01588437, -0.00460743, -0.01392766, -0.0040602 ,\n",
       "         0.01410346, -0.01462244, -0.01263982,  0.00145185,  0.01762321,\n",
       "        -0.01789523, -0.02638333, -0.00424192,  0.01680952,  0.0105044 ,\n",
       "        -0.00813806, -0.0099309 , -0.00303356, -0.01075879, -0.00816959,\n",
       "         0.00621903,  0.00624451, -0.00700361, -0.00086288,  0.01196977,\n",
       "         0.00028447, -0.01851765,  0.03075248,  0.008051  , -0.02460038,\n",
       "         0.03555854, -0.01873489,  0.01708398, -0.02500826,  0.00247164,\n",
       "         0.01394165,  0.0251012 ,  0.01346867,  0.00369457,  0.02315405,\n",
       "         0.00944886,  0.01529963,  0.00769391, -0.0095686 , -0.00737408,\n",
       "        -0.0225353 , -0.00923965,  0.00424048,  0.02687353, -0.01153826,\n",
       "        -0.01112015,  0.02577734,  0.00563209,  0.015917  ,  0.02092603,\n",
       "         0.01624177,  0.00094676,  0.00068399, -0.00411656,  0.03431114,\n",
       "        -0.001076  ,  0.00156275, -0.02127996,  0.00858302,  0.00491504],\n",
       "       dtype=float32),)"
      ]
     },
     "execution_count": 79,
     "metadata": {},
     "output_type": "execute_result"
    }
   ],
   "source": [
    "palabras_incrustadas = modelo.wv[modelo.wv.key_to_index] # obtenemos los vectores de palabras\n",
    "\n",
    "lista_palabras = list(modelo.wv.key_to_index) # lista con las palabras\n",
    "palabras_incrustadas\n",
    "palabras_incrustadas[lista_palabras.index(\"sistema\"), :],"
   ]
  },
  {
   "cell_type": "code",
   "execution_count": 76,
   "metadata": {},
   "outputs": [],
   "source": [
    "import numpy as np\n",
    "def norma_vectorial(vector):\n",
    "    return np.sqrt(np.sum([v**2 for v in vector]))\n",
    "\n",
    "def similitud_coseno(v1, v2):\n",
    "    return np.dot(v1, v2)/float(norma_vectorial(v1)*norma_vectorial(v2))"
   ]
  },
  {
   "cell_type": "code",
   "execution_count": 77,
   "metadata": {},
   "outputs": [
    {
     "name": "stdout",
     "output_type": "stream",
     "text": [
      "Similitud: 0.91 \n"
     ]
    }
   ],
   "source": [
    "# prueba el modelo    \n",
    "print(\"Similitud: {:.2f} \".format(similitud_coseno(palabras_incrustadas[lista_palabras.index(\"sistema\"), :], \n",
    "                          palabras_incrustadas[lista_palabras.index(\"algoritmos\"), :]) ))\n",
    "   "
   ]
  },
  {
   "cell_type": "code",
   "execution_count": 40,
   "metadata": {},
   "outputs": [
    {
     "name": "stdout",
     "output_type": "stream",
     "text": [
      "similitud 0.91 \n"
     ]
    }
   ],
   "source": [
    "s = modelo.wv.similarity(w1=\"sistema\", w2=\"algoritmos\")  \n",
    "print(\"similitud {:.2f} \".format(s))"
   ]
  },
  {
   "cell_type": "code",
   "execution_count": 41,
   "metadata": {},
   "outputs": [
    {
     "name": "stdout",
     "output_type": "stream",
     "text": [
      "Más similar a sistema:  [('de', 0.9480828046798706), ('que', 0.9357652068138123), ('el', 0.9296500086784363), ('Desarrollar', 0.9236196875572205), ('un', 0.9158722162246704), (',', 0.9146167039871216), ('los', 0.9145620465278625), ('información', 0.9096739888191223), ('la', 0.9090107083320618), ('una', 0.9086618423461914)]\n"
     ]
    }
   ],
   "source": [
    "palabra = \"sistema\" \n",
    "print(\"Más similar a {0}: \".format(palabra), modelo.wv.most_similar(positive=palabra))"
   ]
  },
  {
   "cell_type": "code",
   "execution_count": null,
   "metadata": {},
   "outputs": [],
   "source": []
  }
 ],
 "metadata": {
  "kernelspec": {
   "display_name": "Python 3",
   "language": "python",
   "name": "python3"
  },
  "language_info": {
   "codemirror_mode": {
    "name": "ipython",
    "version": 3
   },
   "file_extension": ".py",
   "mimetype": "text/x-python",
   "name": "python",
   "nbconvert_exporter": "python",
   "pygments_lexer": "ipython3",
   "version": "3.10.12"
  },
  "toc": {
   "base_numbering": 1,
   "nav_menu": {},
   "number_sections": true,
   "sideBar": true,
   "skip_h1_title": false,
   "title_cell": "Table of Contents",
   "title_sidebar": "Contents",
   "toc_cell": false,
   "toc_position": {},
   "toc_section_display": true,
   "toc_window_display": false
  },
  "varInspector": {
   "cols": {
    "lenName": 16,
    "lenType": 16,
    "lenVar": 40
   },
   "kernels_config": {
    "python": {
     "delete_cmd_postfix": "",
     "delete_cmd_prefix": "del ",
     "library": "var_list.py",
     "varRefreshCmd": "print(var_dic_list())"
    },
    "r": {
     "delete_cmd_postfix": ") ",
     "delete_cmd_prefix": "rm(",
     "library": "var_list.r",
     "varRefreshCmd": "cat(var_dic_list()) "
    }
   },
   "types_to_exclude": [
    "module",
    "function",
    "builtin_function_or_method",
    "instance",
    "_Feature"
   ],
   "window_display": false
  }
 },
 "nbformat": 4,
 "nbformat_minor": 4
}
