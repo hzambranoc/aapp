{
 "cells": [
  {
   "cell_type": "markdown",
   "metadata": {
    "toc": true
   },
   "source": [
    "<h1>Tabla de contenidos<span class=\"tocSkip\"></span></h1>\n",
    "<div class=\"toc\"><ul class=\"toc-item\"><li><span><a href=\"#Redes-neuronales-convolucionales\" data-toc-modified-id=\"Redes-neuronales-convolucionales-1\"><span class=\"toc-item-num\">1&nbsp;&nbsp;</span>Redes neuronales convolucionales</a></span><ul class=\"toc-item\"><li><span><a href=\"#Introducción-a-las-CNNs\" data-toc-modified-id=\"Introducción-a-las-CNNs-1.1\"><span class=\"toc-item-num\">1.1&nbsp;&nbsp;</span>Introducción a las CNNs</a></span><ul class=\"toc-item\"><li><span><a href=\"#Convolución\" data-toc-modified-id=\"Convolución-1.1.1\"><span class=\"toc-item-num\">1.1.1&nbsp;&nbsp;</span>Convolución</a></span></li></ul></li><li><span><a href=\"#Ejemplo-de-CNNs-en-Keras\" data-toc-modified-id=\"Ejemplo-de-CNNs-en-Keras-1.2\"><span class=\"toc-item-num\">1.2&nbsp;&nbsp;</span>Ejemplo de CNNs en Keras</a></span></li><li><span><a href=\"#Regularización\" data-toc-modified-id=\"Regularización-1.3\"><span class=\"toc-item-num\">1.3&nbsp;&nbsp;</span>Regularización</a></span><ul class=\"toc-item\"><li><span><a href=\"#L1-y-L2\" data-toc-modified-id=\"L1-y-L2-1.3.1\"><span class=\"toc-item-num\">1.3.1&nbsp;&nbsp;</span>L1 y L2</a></span></li><li><span><a href=\"#Dropout\" data-toc-modified-id=\"Dropout-1.3.2\"><span class=\"toc-item-num\">1.3.2&nbsp;&nbsp;</span>Dropout</a></span></li></ul></li></ul></li></ul></div>"
   ]
  },
  {
   "cell_type": "markdown",
   "metadata": {},
   "source": [
    "# Redes neuronales convolucionales"
   ]
  },
  {
   "cell_type": "markdown",
   "metadata": {},
   "source": [
    "## Introducción a las CNNs"
   ]
  },
  {
   "cell_type": "markdown",
   "metadata": {},
   "source": [
    "### Convolución"
   ]
  },
  {
   "cell_type": "code",
   "execution_count": 1,
   "metadata": {},
   "outputs": [],
   "source": [
    "X = np.array([[1,1,1,0,0], [0,1,1,1,0], [0,0,1,1,1], [0,0,1,1,0], [0,1,1,0,0]])\n",
    "K = np.array([[1,0,1],[0,1,0],[1,0,1]])"
   ]
  },
  {
   "cell_type": "code",
   "execution_count": 2,
   "metadata": {},
   "outputs": [
    {
     "data": {
      "text/plain": [
       "array([[1, 1, 1, 0, 0],\n",
       "       [0, 1, 1, 1, 0],\n",
       "       [0, 0, 1, 1, 1],\n",
       "       [0, 0, 1, 1, 0],\n",
       "       [0, 1, 1, 0, 0]])"
      ]
     },
     "execution_count": 2,
     "metadata": {},
     "output_type": "execute_result"
    }
   ],
   "source": [
    "X"
   ]
  },
  {
   "cell_type": "code",
   "execution_count": 3,
   "metadata": {},
   "outputs": [
    {
     "data": {
      "text/plain": [
       "array([[1, 0, 1],\n",
       "       [0, 1, 0],\n",
       "       [1, 0, 1]])"
      ]
     },
     "execution_count": 3,
     "metadata": {},
     "output_type": "execute_result"
    }
   ],
   "source": [
    "K"
   ]
  },
  {
   "cell_type": "code",
   "execution_count": 4,
   "metadata": {},
   "outputs": [],
   "source": [
    "from scipy.signal import convolve2d"
   ]
  },
  {
   "cell_type": "code",
   "execution_count": 6,
   "metadata": {},
   "outputs": [
    {
     "data": {
      "text/plain": [
       "array([[4, 3, 4],\n",
       "       [2, 4, 3],\n",
       "       [2, 3, 4]])"
      ]
     },
     "execution_count": 6,
     "metadata": {},
     "output_type": "execute_result"
    }
   ],
   "source": [
    "convolve2d(X,K, mode='valid')"
   ]
  },
  {
   "cell_type": "markdown",
   "metadata": {},
   "source": [
    "## Ejemplo de CNNs en Keras"
   ]
  },
  {
   "cell_type": "code",
   "execution_count": 7,
   "metadata": {},
   "outputs": [
    {
     "name": "stderr",
     "output_type": "stream",
     "text": [
      "Using TensorFlow backend.\n"
     ]
    }
   ],
   "source": [
    "import tensorflow as tf\n",
    "from tensorflow.keras import datasets, layers, models\n",
    "from keras.datasets import fashion_mnist\n",
    "(X_ent, y_ent), (X_pru, y_pru) = fashion_mnist.load_data()"
   ]
  },
  {
   "cell_type": "code",
   "execution_count": 8,
   "metadata": {},
   "outputs": [],
   "source": [
    "# reshape\n",
    "X_ent = X_ent.reshape((60000, 28, 28, 1))\n",
    "X_pru = X_pru.reshape((10000, 28, 28, 1))\n",
    "X_ent = X_ent.astype('float32')\n",
    "X_pru = X_pru.astype('float32')\n",
    "# normalizamos\n",
    "X_ent, X_pru = X_ent / 255.0, X_pru / 255.0\n",
    "y_ent = tf.keras.utils.to_categorical(y_ent, 10)\n",
    "y_pru = tf.keras.utils.to_categorical(y_pru, 10)"
   ]
  },
  {
   "cell_type": "code",
   "execution_count": 9,
   "metadata": {},
   "outputs": [],
   "source": [
    "model = models.Sequential()\n",
    "model.add(layers.Conv2D(32, (3, 3), activation='relu', input_shape=(28, 28, 1)))\n",
    "model.add(layers.MaxPooling2D(pool_size=(2, 2), strides=(2, 2)))\n",
    "model.add(layers.Conv2D(64, (3, 3), activation='relu'))\n",
    "model.add(layers.MaxPooling2D(pool_size=(2, 2), strides=(2, 2)))\n",
    "model.add(layers.Flatten())\n",
    "model.add(layers.Dense(10, activation='softmax'))"
   ]
  },
  {
   "cell_type": "code",
   "execution_count": 25,
   "metadata": {},
   "outputs": [
    {
     "name": "stdout",
     "output_type": "stream",
     "text": [
      "Model: \"sequential_7\"\n",
      "_________________________________________________________________\n",
      "Layer (type)                 Output Shape              Param #   \n",
      "=================================================================\n",
      "conv2d_14 (Conv2D)           (None, 26, 26, 32)        320       \n",
      "_________________________________________________________________\n",
      "max_pooling2d_14 (MaxPooling (None, 13, 13, 32)        0         \n",
      "_________________________________________________________________\n",
      "conv2d_15 (Conv2D)           (None, 11, 11, 64)        18496     \n",
      "_________________________________________________________________\n",
      "max_pooling2d_15 (MaxPooling (None, 5, 5, 64)          0         \n",
      "_________________________________________________________________\n",
      "flatten_7 (Flatten)          (None, 1600)              0         \n",
      "_________________________________________________________________\n",
      "dense_11 (Dense)             (None, 10)                16010     \n",
      "=================================================================\n",
      "Total params: 34,826\n",
      "Trainable params: 34,826\n",
      "Non-trainable params: 0\n",
      "_________________________________________________________________\n",
      "None\n"
     ]
    }
   ],
   "source": [
    "# motramos la arq de la red\n",
    "print(model.summary())"
   ]
  },
  {
   "cell_type": "code",
   "execution_count": 26,
   "metadata": {},
   "outputs": [],
   "source": [
    "# compilamos el modelo\n",
    "model.compile(loss=\"categorical_crossentropy\", optimizer='adam', metrics=[\"accuracy\"])"
   ]
  },
  {
   "cell_type": "code",
   "execution_count": 27,
   "metadata": {},
   "outputs": [
    {
     "name": "stdout",
     "output_type": "stream",
     "text": [
      "Epoch 1/10\n",
      "844/844 [==============================] - 40s 47ms/step - loss: 0.5489 - accuracy: 0.8040 - val_loss: 0.4134 - val_accuracy: 0.8485\n",
      "Epoch 2/10\n",
      "844/844 [==============================] - 38s 45ms/step - loss: 0.3680 - accuracy: 0.8690 - val_loss: 0.3385 - val_accuracy: 0.8788\n",
      "Epoch 3/10\n",
      "844/844 [==============================] - 38s 45ms/step - loss: 0.3284 - accuracy: 0.8831 - val_loss: 0.3342 - val_accuracy: 0.8778\n",
      "Epoch 4/10\n",
      "844/844 [==============================] - 38s 45ms/step - loss: 0.2975 - accuracy: 0.8927 - val_loss: 0.3027 - val_accuracy: 0.8930\n",
      "Epoch 5/10\n",
      "844/844 [==============================] - 38s 45ms/step - loss: 0.2791 - accuracy: 0.8988 - val_loss: 0.3130 - val_accuracy: 0.8800\n",
      "Epoch 6/10\n",
      "844/844 [==============================] - 38s 45ms/step - loss: 0.2606 - accuracy: 0.9054 - val_loss: 0.2861 - val_accuracy: 0.8963\n",
      "Epoch 7/10\n",
      "844/844 [==============================] - 37s 44ms/step - loss: 0.2447 - accuracy: 0.9105 - val_loss: 0.2713 - val_accuracy: 0.9023\n",
      "Epoch 8/10\n",
      "844/844 [==============================] - 39s 47ms/step - loss: 0.2299 - accuracy: 0.9167 - val_loss: 0.2602 - val_accuracy: 0.9075\n",
      "Epoch 9/10\n",
      "844/844 [==============================] - 38s 45ms/step - loss: 0.2169 - accuracy: 0.9212 - val_loss: 0.2737 - val_accuracy: 0.9002\n",
      "Epoch 10/10\n",
      "844/844 [==============================] - 38s 45ms/step - loss: 0.2073 - accuracy: 0.9240 - val_loss: 0.2637 - val_accuracy: 0.9035\n"
     ]
    }
   ],
   "source": [
    "history = model.fit(X_ent, y_ent, batch_size=64, epochs=10, verbose=1, validation_split=0.1)"
   ]
  },
  {
   "cell_type": "code",
   "execution_count": 28,
   "metadata": {},
   "outputs": [
    {
     "name": "stdout",
     "output_type": "stream",
     "text": [
      "313/313 [==============================] - 3s 8ms/step - loss: 0.2817 - accuracy: 0.8987\n",
      "\n",
      "Perdida: 0.28\n",
      "Exactitud: 0.90\n"
     ]
    }
   ],
   "source": [
    "puntuaciones = model.evaluate(X_pru, y_pru, verbose=1)\n",
    "print(\"\\nPerdida: {:.2f}\".format(puntuaciones[0]))\n",
    "print(\"Exactitud: {:.2f}\".format(puntuaciones[1]))"
   ]
  },
  {
   "cell_type": "code",
   "execution_count": 29,
   "metadata": {},
   "outputs": [
    {
     "name": "stderr",
     "output_type": "stream",
     "text": [
      "In C:\\Users\\Carlos pineda\\Anaconda3\\lib\\site-packages\\matplotlib\\mpl-data\\stylelib\\_classic_test.mplstyle: \n",
      "The text.latex.unicode rcparam was deprecated in Matplotlib 3.0 and will be removed in 3.2.\n",
      "In C:\\Users\\Carlos pineda\\Anaconda3\\lib\\site-packages\\matplotlib\\mpl-data\\stylelib\\_classic_test.mplstyle: \n",
      "The savefig.frameon rcparam was deprecated in Matplotlib 3.1 and will be removed in 3.3.\n",
      "In C:\\Users\\Carlos pineda\\Anaconda3\\lib\\site-packages\\matplotlib\\mpl-data\\stylelib\\_classic_test.mplstyle: \n",
      "The pgf.debug rcparam was deprecated in Matplotlib 3.0 and will be removed in 3.2.\n",
      "In C:\\Users\\Carlos pineda\\Anaconda3\\lib\\site-packages\\matplotlib\\mpl-data\\stylelib\\_classic_test.mplstyle: \n",
      "The verbose.level rcparam was deprecated in Matplotlib 3.1 and will be removed in 3.3.\n",
      "In C:\\Users\\Carlos pineda\\Anaconda3\\lib\\site-packages\\matplotlib\\mpl-data\\stylelib\\_classic_test.mplstyle: \n",
      "The verbose.fileo rcparam was deprecated in Matplotlib 3.1 and will be removed in 3.3.\n"
     ]
    },
    {
     "data": {
      "image/png": "[encoded data removed]",
      "text/plain": [
       "<Figure size 432x288 with 1 Axes>"
      ]
     },
     "metadata": {
      "needs_background": "light"
     },
     "output_type": "display_data"
    }
   ],
   "source": [
    "# graficando la perdida de entrenamiento y validación\n",
    "import matplotlib.pyplot as plt\n",
    "history_dict = history.history\n",
    "loss_values = history_dict['loss']\n",
    "acc = history_dict['accuracy']\n",
    "val_loss_values = history_dict['val_loss']\n",
    "epochs = range(1, len(acc) + 1)\n",
    "plt.plot(epochs, loss_values, 'b', label='Perdida de entrenamiento')\n",
    "plt.plot(epochs, val_loss_values, 'r', label='Perdida de validación')\n",
    "plt.title('Perdida de entrenamiento y validación')\n",
    "plt.xlabel('Epocas')\n",
    "plt.ylabel('Perdida')\n",
    "plt.legend()\n",
    "plt.show()"
   ]
  },
  {
   "cell_type": "code",
   "execution_count": 30,
   "metadata": {},
   "outputs": [
    {
     "data": {
      "image/png": "[encoded data removed]",
      "text/plain": [
       "<Figure size 432x288 with 1 Axes>"
      ]
     },
     "metadata": {
      "needs_background": "light"
     },
     "output_type": "display_data"
    }
   ],
   "source": [
    "plt.clf()\n",
    "acc = history_dict['accuracy']\n",
    "val_acc = history_dict['val_accuracy']\n",
    "plt.plot(epochs, acc, 'b', label='Exactitud de entrenamiento')\n",
    "plt.plot(epochs, val_acc, 'r', label='Exactitud de validación')\n",
    "plt.title('Exactitud de entrenamiento y validación')\n",
    "plt.xlabel('Epocas')\n",
    "plt.ylabel('Exactitud')\n",
    "plt.legend()\n",
    "plt.show()"
   ]
  },
  {
   "cell_type": "markdown",
   "metadata": {},
   "source": [
    "## Regularización"
   ]
  },
  {
   "cell_type": "markdown",
   "metadata": {},
   "source": [
    "### L1 y L2"
   ]
  },
  {
   "cell_type": "code",
   "execution_count": 49,
   "metadata": {},
   "outputs": [],
   "source": [
    "from keras import regularizers\n",
    "model = models.Sequential()\n",
    "model.add(layers.Conv2D(32, (3, 3), activation='relu', input_shape=(28, 28, 1), kernel_regularizer=regularizers.l2(0.001)))\n",
    "model.add(layers.MaxPooling2D(pool_size=(2, 2), strides=(2, 2)))\n",
    "model.add(layers.Conv2D(64, (3, 3), activation='relu', kernel_regularizer=regularizers.l2(0.001)))\n",
    "model.add(layers.MaxPooling2D(pool_size=(2, 2), strides=(2, 2)))\n",
    "model.add(layers.Flatten())\n",
    "model.add(layers.Dense(10, activation='softmax'))"
   ]
  },
  {
   "cell_type": "code",
   "execution_count": 50,
   "metadata": {},
   "outputs": [
    {
     "name": "stdout",
     "output_type": "stream",
     "text": [
      "Model: \"sequential_13\"\n",
      "_________________________________________________________________\n",
      "Layer (type)                 Output Shape              Param #   \n",
      "=================================================================\n",
      "conv2d_29 (Conv2D)           (None, 26, 26, 32)        320       \n",
      "_________________________________________________________________\n",
      "max_pooling2d_29 (MaxPooling (None, 13, 13, 32)        0         \n",
      "_________________________________________________________________\n",
      "conv2d_30 (Conv2D)           (None, 11, 11, 64)        18496     \n",
      "_________________________________________________________________\n",
      "max_pooling2d_30 (MaxPooling (None, 5, 5, 64)          0         \n",
      "_________________________________________________________________\n",
      "flatten_13 (Flatten)         (None, 1600)              0         \n",
      "_________________________________________________________________\n",
      "dense_19 (Dense)             (None, 10)                16010     \n",
      "=================================================================\n",
      "Total params: 34,826\n",
      "Trainable params: 34,826\n",
      "Non-trainable params: 0\n",
      "_________________________________________________________________\n",
      "None\n"
     ]
    }
   ],
   "source": [
    "# motramos la arq de la red\n",
    "print(model.summary())"
   ]
  },
  {
   "cell_type": "code",
   "execution_count": 51,
   "metadata": {},
   "outputs": [
    {
     "name": "stdout",
     "output_type": "stream",
     "text": [
      "Epoch 1/10\n",
      "844/844 [==============================] - 36s 42ms/step - loss: 0.6194 - accuracy: 0.7934 - val_loss: 0.4697 - val_accuracy: 0.8475\n",
      "Epoch 2/10\n",
      "844/844 [==============================] - 37s 43ms/step - loss: 0.4372 - accuracy: 0.8589 - val_loss: 0.4349 - val_accuracy: 0.8565\n",
      "Epoch 3/10\n",
      "844/844 [==============================] - 36s 43ms/step - loss: 0.3955 - accuracy: 0.8739 - val_loss: 0.3881 - val_accuracy: 0.8760\n",
      "Epoch 4/10\n",
      "844/844 [==============================] - 37s 43ms/step - loss: 0.3727 - accuracy: 0.8812 - val_loss: 0.3694 - val_accuracy: 0.8832\n",
      "Epoch 5/10\n",
      "844/844 [==============================] - 37s 44ms/step - loss: 0.3579 - accuracy: 0.8853 - val_loss: 0.3547 - val_accuracy: 0.8848\n",
      "Epoch 6/10\n",
      "844/844 [==============================] - 36s 42ms/step - loss: 0.3451 - accuracy: 0.8915 - val_loss: 0.3570 - val_accuracy: 0.8827\n",
      "Epoch 7/10\n",
      "844/844 [==============================] - 35s 42ms/step - loss: 0.3347 - accuracy: 0.8948 - val_loss: 0.3517 - val_accuracy: 0.8903\n",
      "Epoch 8/10\n",
      "844/844 [==============================] - 36s 43ms/step - loss: 0.3247 - accuracy: 0.8983 - val_loss: 0.3339 - val_accuracy: 0.8953\n",
      "Epoch 9/10\n",
      "844/844 [==============================] - 36s 42ms/step - loss: 0.3176 - accuracy: 0.9001 - val_loss: 0.3274 - val_accuracy: 0.8963\n",
      "Epoch 10/10\n",
      "844/844 [==============================] - 36s 43ms/step - loss: 0.3105 - accuracy: 0.9036 - val_loss: 0.3389 - val_accuracy: 0.8927\n"
     ]
    }
   ],
   "source": [
    "model.compile(loss=\"categorical_crossentropy\", optimizer='adam', metrics=[\"accuracy\"])\n",
    "history = model.fit(X_ent, y_ent, batch_size=64, epochs=10, verbose=1, validation_split=0.1)"
   ]
  },
  {
   "cell_type": "code",
   "execution_count": 52,
   "metadata": {},
   "outputs": [
    {
     "name": "stdout",
     "output_type": "stream",
     "text": [
      "313/313 [==============================] - 2s 5ms/step - loss: 0.3531 - accuracy: 0.8862\n",
      "\n",
      "Perdida: 0.35\n",
      "Exactitud: 0.89\n"
     ]
    }
   ],
   "source": [
    "puntuaciones = model.evaluate(X_pru, y_pru, verbose=1)\n",
    "print(\"\\nPerdida: {:.2f}\".format(puntuaciones[0]))\n",
    "print(\"Exactitud: {:.2f}\".format(puntuaciones[1]))"
   ]
  },
  {
   "cell_type": "markdown",
   "metadata": {},
   "source": [
    "###    Dropout\n",
    "    "
   ]
  },
  {
   "cell_type": "code",
   "execution_count": 53,
   "metadata": {},
   "outputs": [],
   "source": [
    "model = models.Sequential()\n",
    "model.add(layers.Conv2D(32, (3, 3), activation='relu', input_shape=(28, 28, 1)))\n",
    "model.add(layers.BatchNormalization())\n",
    "model.add(layers.MaxPooling2D(pool_size=(2, 2), strides=(2, 2)))\n",
    "model.add(layers.Dropout(0.2))\n",
    "model.add(layers.Conv2D(64, (3, 3), activation='relu'))\n",
    "model.add(layers.BatchNormalization())\n",
    "model.add(layers.MaxPooling2D(pool_size=(2, 2), strides=(2, 2)))\n",
    "model.add(layers.Dropout(0.2))\n",
    "model.add(layers.Flatten())\n",
    "model.add(layers.Dense(10, activation='softmax'))"
   ]
  },
  {
   "cell_type": "code",
   "execution_count": 54,
   "metadata": {},
   "outputs": [
    {
     "name": "stdout",
     "output_type": "stream",
     "text": [
      "Model: \"sequential_14\"\n",
      "_________________________________________________________________\n",
      "Layer (type)                 Output Shape              Param #   \n",
      "=================================================================\n",
      "conv2d_31 (Conv2D)           (None, 26, 26, 32)        320       \n",
      "_________________________________________________________________\n",
      "batch_normalization_11 (Batc (None, 26, 26, 32)        128       \n",
      "_________________________________________________________________\n",
      "max_pooling2d_31 (MaxPooling (None, 13, 13, 32)        0         \n",
      "_________________________________________________________________\n",
      "dropout_11 (Dropout)         (None, 13, 13, 32)        0         \n",
      "_________________________________________________________________\n",
      "conv2d_32 (Conv2D)           (None, 11, 11, 64)        18496     \n",
      "_________________________________________________________________\n",
      "batch_normalization_12 (Batc (None, 11, 11, 64)        256       \n",
      "_________________________________________________________________\n",
      "max_pooling2d_32 (MaxPooling (None, 5, 5, 64)          0         \n",
      "_________________________________________________________________\n",
      "dropout_12 (Dropout)         (None, 5, 5, 64)          0         \n",
      "_________________________________________________________________\n",
      "flatten_14 (Flatten)         (None, 1600)              0         \n",
      "_________________________________________________________________\n",
      "dense_20 (Dense)             (None, 10)                16010     \n",
      "=================================================================\n",
      "Total params: 35,210\n",
      "Trainable params: 35,018\n",
      "Non-trainable params: 192\n",
      "_________________________________________________________________\n",
      "None\n"
     ]
    }
   ],
   "source": [
    "# motramos la arq de la red\n",
    "print(model.summary())"
   ]
  },
  {
   "cell_type": "code",
   "execution_count": 55,
   "metadata": {},
   "outputs": [
    {
     "name": "stdout",
     "output_type": "stream",
     "text": [
      "Epoch 1/10\n",
      "422/422 [==============================] - 56s 133ms/step - loss: 0.5620 - accuracy: 0.8057 - val_loss: 0.7128 - val_accuracy: 0.7742\n",
      "Epoch 2/10\n",
      "422/422 [==============================] - 55s 131ms/step - loss: 0.3794 - accuracy: 0.8657 - val_loss: 0.3000 - val_accuracy: 0.8910\n",
      "Epoch 3/10\n",
      "422/422 [==============================] - 55s 130ms/step - loss: 0.3351 - accuracy: 0.8803 - val_loss: 0.3013 - val_accuracy: 0.8893\n",
      "Epoch 4/10\n",
      "422/422 [==============================] - 56s 133ms/step - loss: 0.3109 - accuracy: 0.8888 - val_loss: 0.2904 - val_accuracy: 0.8927\n",
      "Epoch 5/10\n",
      "422/422 [==============================] - 57s 134ms/step - loss: 0.2927 - accuracy: 0.8942 - val_loss: 0.2777 - val_accuracy: 0.8983\n",
      "Epoch 6/10\n",
      "422/422 [==============================] - 56s 132ms/step - loss: 0.2790 - accuracy: 0.8991 - val_loss: 0.2794 - val_accuracy: 0.9015\n",
      "Epoch 7/10\n",
      "422/422 [==============================] - 56s 133ms/step - loss: 0.2695 - accuracy: 0.9024 - val_loss: 0.2724 - val_accuracy: 0.9018\n",
      "Epoch 8/10\n",
      "422/422 [==============================] - 57s 134ms/step - loss: 0.2622 - accuracy: 0.9051 - val_loss: 0.2460 - val_accuracy: 0.9125\n",
      "Epoch 9/10\n",
      "422/422 [==============================] - 57s 134ms/step - loss: 0.2547 - accuracy: 0.9061 - val_loss: 0.2757 - val_accuracy: 0.9013\n",
      "Epoch 10/10\n",
      "422/422 [==============================] - 57s 135ms/step - loss: 0.2473 - accuracy: 0.9099 - val_loss: 0.2729 - val_accuracy: 0.9010\n"
     ]
    }
   ],
   "source": [
    "model.compile(loss=\"categorical_crossentropy\", optimizer='adam', metrics=[\"accuracy\"])\n",
    "history = model.fit(X_ent, y_ent, batch_size=128, epochs=10, verbose=1, validation_split=0.1)"
   ]
  },
  {
   "cell_type": "code",
   "execution_count": 56,
   "metadata": {},
   "outputs": [
    {
     "name": "stdout",
     "output_type": "stream",
     "text": [
      "313/313 [==============================] - 2s 6ms/step - loss: 0.2928 - accuracy: 0.8938\n",
      "\n",
      "Perdida: 0.29\n",
      "Exactitud: 0.89\n"
     ]
    }
   ],
   "source": [
    "puntuaciones = model.evaluate(X_pru, y_pru, verbose=1)\n",
    "print(\"\\nPerdida: {:.2f}\".format(puntuaciones[0]))\n",
    "print(\"Exactitud: {:.2f}\".format(puntuaciones[1]))"
   ]
  },
  {
   "cell_type": "code",
   "execution_count": 60,
   "metadata": {},
   "outputs": [
    {
     "name": "stdout",
     "output_type": "stream",
     "text": [
      "Model: \"sequential_17\"\n",
      "_________________________________________________________________\n",
      "Layer (type)                 Output Shape              Param #   \n",
      "=================================================================\n",
      "conv2d_39 (Conv2D)           (None, 28, 28, 32)        320       \n",
      "_________________________________________________________________\n",
      "batch_normalization_19 (Batc (None, 28, 28, 32)        128       \n",
      "_________________________________________________________________\n",
      "conv2d_40 (Conv2D)           (None, 28, 28, 32)        9248      \n",
      "_________________________________________________________________\n",
      "batch_normalization_20 (Batc (None, 28, 28, 32)        128       \n",
      "_________________________________________________________________\n",
      "max_pooling2d_36 (MaxPooling (None, 14, 14, 32)        0         \n",
      "_________________________________________________________________\n",
      "dropout_16 (Dropout)         (None, 14, 14, 32)        0         \n",
      "_________________________________________________________________\n",
      "conv2d_41 (Conv2D)           (None, 14, 14, 64)        18496     \n",
      "_________________________________________________________________\n",
      "batch_normalization_21 (Batc (None, 14, 14, 64)        256       \n",
      "_________________________________________________________________\n",
      "conv2d_42 (Conv2D)           (None, 14, 14, 64)        36928     \n",
      "_________________________________________________________________\n",
      "batch_normalization_22 (Batc (None, 14, 14, 64)        256       \n",
      "_________________________________________________________________\n",
      "max_pooling2d_37 (MaxPooling (None, 7, 7, 64)          0         \n",
      "_________________________________________________________________\n",
      "dropout_17 (Dropout)         (None, 7, 7, 64)          0         \n",
      "_________________________________________________________________\n",
      "conv2d_43 (Conv2D)           (None, 7, 7, 128)         73856     \n",
      "_________________________________________________________________\n",
      "batch_normalization_23 (Batc (None, 7, 7, 128)         512       \n",
      "_________________________________________________________________\n",
      "conv2d_44 (Conv2D)           (None, 7, 7, 128)         147584    \n",
      "_________________________________________________________________\n",
      "batch_normalization_24 (Batc (None, 7, 7, 128)         512       \n",
      "_________________________________________________________________\n",
      "max_pooling2d_38 (MaxPooling (None, 3, 3, 128)         0         \n",
      "_________________________________________________________________\n",
      "dropout_18 (Dropout)         (None, 3, 3, 128)         0         \n",
      "_________________________________________________________________\n",
      "flatten_16 (Flatten)         (None, 1152)              0         \n",
      "_________________________________________________________________\n",
      "dense_21 (Dense)             (None, 10)                11530     \n",
      "=================================================================\n",
      "Total params: 299,754\n",
      "Trainable params: 298,858\n",
      "Non-trainable params: 896\n",
      "_________________________________________________________________\n"
     ]
    }
   ],
   "source": [
    "model = models.Sequential()\n",
    "\n",
    "model.add(layers.Conv2D(32, (3,3), padding='same', \n",
    "    input_shape=X_ent.shape[1:], activation='relu'))\n",
    "model.add(layers.BatchNormalization())\n",
    "model.add(layers.Conv2D(32, (3,3), padding='same', activation='relu'))\n",
    "model.add(layers.BatchNormalization())\n",
    "model.add(layers.MaxPooling2D(pool_size=(2,2)))\n",
    "model.add(layers.Dropout(0.2))\n",
    "\n",
    "model.add(layers.Conv2D(64, (3,3), padding='same', activation='relu'))\n",
    "model.add(layers.BatchNormalization())\n",
    "model.add(layers.Conv2D(64, (3,3), padding='same', activation='relu'))\n",
    "model.add(layers.BatchNormalization())\n",
    "model.add(layers.MaxPooling2D(pool_size=(2,2)))\n",
    "model.add(layers.Dropout(0.3))\n",
    " \n",
    "model.add(layers.Conv2D(128, (3,3), padding='same', activation='relu'))\n",
    "model.add(layers.BatchNormalization())\n",
    "model.add(layers.Conv2D(128, (3,3), padding='same', activation='relu'))\n",
    "model.add(layers.BatchNormalization())\n",
    "model.add(layers.MaxPooling2D(pool_size=(2,2)))\n",
    "model.add(layers.Dropout(0.4))\n",
    " \n",
    "model.add(layers.Flatten())\n",
    "model.add(layers.Dense(10, activation='softmax'))\n",
    "\n",
    "model.summary() "
   ]
  },
  {
   "cell_type": "code",
   "execution_count": 62,
   "metadata": {},
   "outputs": [
    {
     "name": "stdout",
     "output_type": "stream",
     "text": [
      "Epoch 1/10\n",
      "422/422 [==============================] - 302s 716ms/step - loss: 0.2044 - accuracy: 0.9256 - val_loss: 0.2131 - val_accuracy: 0.9197\n",
      "Epoch 2/10\n",
      "422/422 [==============================] - 306s 724ms/step - loss: 0.1895 - accuracy: 0.9306 - val_loss: 0.2138 - val_accuracy: 0.9215\n",
      "Epoch 3/10\n",
      "422/422 [==============================] - 300s 712ms/step - loss: 0.1780 - accuracy: 0.9353 - val_loss: 0.1791 - val_accuracy: 0.9345\n",
      "Epoch 4/10\n",
      "422/422 [==============================] - 288s 683ms/step - loss: 0.1674 - accuracy: 0.9386 - val_loss: 0.1825 - val_accuracy: 0.9335\n",
      "Epoch 5/10\n",
      "422/422 [==============================] - 274s 649ms/step - loss: 0.1594 - accuracy: 0.9424 - val_loss: 0.1799 - val_accuracy: 0.9375\n",
      "Epoch 6/10\n",
      "422/422 [==============================] - 275s 651ms/step - loss: 0.1532 - accuracy: 0.9440 - val_loss: 0.1848 - val_accuracy: 0.9345\n",
      "Epoch 7/10\n",
      "422/422 [==============================] - 275s 652ms/step - loss: 0.1477 - accuracy: 0.9456 - val_loss: 0.1857 - val_accuracy: 0.9363\n",
      "Epoch 8/10\n",
      "422/422 [==============================] - 282s 668ms/step - loss: 0.1405 - accuracy: 0.9484 - val_loss: 0.1748 - val_accuracy: 0.9380\n",
      "Epoch 9/10\n",
      "422/422 [==============================] - 276s 655ms/step - loss: 0.1346 - accuracy: 0.9505 - val_loss: 0.1839 - val_accuracy: 0.9372\n",
      "Epoch 10/10\n",
      "422/422 [==============================] - 286s 678ms/step - loss: 0.1303 - accuracy: 0.9517 - val_loss: 0.1828 - val_accuracy: 0.9353\n"
     ]
    }
   ],
   "source": [
    "model.compile(loss=\"categorical_crossentropy\", optimizer='adam', metrics=[\"accuracy\"])\n",
    "history = model.fit(X_ent, y_ent, batch_size=128, epochs=10, verbose=1, validation_split=0.1)"
   ]
  },
  {
   "cell_type": "code",
   "execution_count": 63,
   "metadata": {},
   "outputs": [
    {
     "name": "stdout",
     "output_type": "stream",
     "text": [
      "313/313 [==============================] - 11s 34ms/step - loss: 0.2102 - accuracy: 0.9286\n",
      "\n",
      "Perdida: 0.21\n",
      "Exactitud: 0.93\n"
     ]
    }
   ],
   "source": [
    "puntuaciones = model.evaluate(X_pru, y_pru, verbose=1)\n",
    "print(\"\\nPerdida: {:.2f}\".format(puntuaciones[0]))\n",
    "print(\"Exactitud: {:.2f}\".format(puntuaciones[1]))"
   ]
  },
  {
   "cell_type": "code",
   "execution_count": null,
   "metadata": {},
   "outputs": [],
   "source": []
  }
 ],
 "metadata": {
  "kernelspec": {
   "display_name": "Python 3",
   "language": "python",
   "name": "python3"
  },
  "language_info": {
   "codemirror_mode": {
    "name": "ipython",
    "version": 3
   },
   "file_extension": ".py",
   "mimetype": "text/x-python",
   "name": "python",
   "nbconvert_exporter": "python",
   "pygments_lexer": "ipython3",
   "version": "3.7.3"
  },
  "toc": {
   "base_numbering": 1,
   "nav_menu": {},
   "number_sections": true,
   "sideBar": true,
   "skip_h1_title": false,
   "title_cell": "Tabla de contenidos",
   "title_sidebar": "Contents",
   "toc_cell": true,
   "toc_position": {},
   "toc_section_display": true,
   "toc_window_display": true
  },
  "varInspector": {
   "cols": {
    "lenName": 16,
    "lenType": 16,
    "lenVar": 40
   },
   "kernels_config": {
    "python": {
     "delete_cmd_postfix": "",
     "delete_cmd_prefix": "del ",
     "library": "var_list.py",
     "varRefreshCmd": "print(var_dic_list())"
    },
    "r": {
     "delete_cmd_postfix": ") ",
     "delete_cmd_prefix": "rm(",
     "library": "var_list.r",
     "varRefreshCmd": "cat(var_dic_list()) "
    }
   },
   "types_to_exclude": [
    "module",
    "function",
    "builtin_function_or_method",
    "instance",
    "_Feature"
   ],
   "window_display": false
  }
 },
 "nbformat": 4,
 "nbformat_minor": 4
}
